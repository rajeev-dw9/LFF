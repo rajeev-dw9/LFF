{
 "cells": [
  {
   "cell_type": "code",
   "execution_count": null,
   "metadata": {},
   "outputs": [],
   "source": [
    "import numpy as np"
   ]
  },
  {
   "cell_type": "code",
   "execution_count": null,
   "metadata": {},
   "outputs": [],
   "source": [
    "# path = '/home/rajeev/rrd/LfF/dataset/ColoredMNIST-Skewed0.01-Severity4/valid/attrs.npy'\n",
    "path = '/home/rajeev/rrd/LfF/dataset/ColoredMNIST-Skewed0.01-Severity4/train/attrs.npy'\n",
    "\n",
    "# path = '/home/rajeev/rrd/LfF/dataset/CorruptedCIFAR10-Type1-Skewed0.01-Severity4/train/attrs.npy'\n",
    "# path = '/home/rajeev/rrd/LfF/dataset/CorruptedCIFAR10-Type1-Skewed0.01-Severity4/valid/attrs.npy'\n",
    "\n",
    "attrs = np.load(path)\n",
    "print(attrs.shape)"
   ]
  },
  {
   "cell_type": "code",
   "execution_count": null,
   "metadata": {},
   "outputs": [],
   "source": [
    "# print(attrs[:, 0])\n",
    "# print(attrs[:, 1])\n",
    "print(attrs)\n"
   ]
  },
  {
   "cell_type": "code",
   "execution_count": null,
   "metadata": {},
   "outputs": [],
   "source": [
    "# count attrs[:, 0] == attrs[:, 1]\n",
    "# print(np.sum(attrs[:, 0] == attrs[:, 1]))\n",
    "t=(np.sum(attrs[:, 0] == attrs[:, 1])/attrs.shape[0])\n",
    "t\n"
   ]
  },
  {
   "cell_type": "code",
   "execution_count": null,
   "metadata": {},
   "outputs": [],
   "source": [
    "def calculate_cosine_similarity_loss(model_b, model_d, layer_names):\n",
    "    cosine_loss = 0.0\n",
    "    for name1, param1 in model_d.named_parameters():\n",
    "        print(f'layer name: {name1}')\n",
    "        # print(f'param1: {param1}')\n",
    "        # print(f'param size: {param1.size()}')\n",
    "        for layer_name in layer_names:\n",
    "            if layer_name in name1:\n",
    "                name2 = name1.replace(layer_name, layer_name.replace('features', 'classifier'))\n",
    "                # print(f'name2: {name2}')\n",
    "                param2 = model_d.state_dict()[name2]\n",
    "                # print(f'param2: {model_d.state_dict()[name2]}')\n",
    "                if param1 is not None and param2 is not None and 'weight' in name1:\n",
    "                    weight1 = param1.view(param1.size(0), -1)\n",
    "                    # print(f'weight1: {weight1}')\n",
    "                    weight2 = param2.view(param2.size(0), -1)\n",
    "                    # print(f'weight2: {weight2}')\n",
    "                    cosine_similarity = F.cosine_similarity(weight1, weight2)\n",
    "                    # print(f'cosine_similarity: {cosine_similarity}')\n",
    "                    cosine_loss += 1 - cosine_similarity\n",
    "                    # print(f'cosine_loss: {cosine_loss}')\n",
    "\n",
    "                    # plot the cosine_loss using matplotlib\n",
    "                    # plt.plot(cosine_loss)\n",
    "    return cosine_loss"
   ]
  },
  {
   "attachments": {},
   "cell_type": "markdown",
   "metadata": {},
   "source": [
    "#"
   ]
  },
  {
   "attachments": {},
   "cell_type": "markdown",
   "metadata": {},
   "source": [
    "# Checking if Models trained have orthogonal weights in layers "
   ]
  },
  {
   "cell_type": "code",
   "execution_count": 2,
   "metadata": {},
   "outputs": [
    {
     "data": {
      "text/plain": [
       "tensor(0.9984, device='cuda:0')"
      ]
     },
     "execution_count": 2,
     "metadata": {},
     "output_type": "execute_result"
    }
   ],
   "source": [
    "import torch\n",
    "import torch.nn.functional as F\n",
    "\n",
    "model_d = torch.load('/home/rajeev/rrd/LFF/LOGS/log_new_10June/colored_mnist/result/ColoredMNIST-Skewed0.01-Severity4/model_d_cosine__neg__0.01__24.th')\n",
    "state_dict1 = model_d['state_dict']\n",
    "model_b= torch.load('/home/rajeev/rrd/LFF/LOGS/log_new_10June/colored_mnist/result/ColoredMNIST-Skewed0.01-Severity4/model_b_cosine__neg__0.01__24.th')\n",
    "state_dict2 = model_b['state_dict']\n",
    "\n",
    "F.cosine_similarity(state_dict1['feature.2.weight'],state_dict2['feature.2.weight']).mean()\n",
    "\n",
    "# \n"
   ]
  },
  {
   "attachments": {},
   "cell_type": "markdown",
   "metadata": {},
   "source": [
    "# Cosine Functions"
   ]
  },
  {
   "attachments": {},
   "cell_type": "markdown",
   "metadata": {},
   "source": [
    "### No Gradinet Update"
   ]
  },
  {
   "cell_type": "code",
   "execution_count": null,
   "metadata": {},
   "outputs": [],
   "source": [
    "def calculate_cosine_similarity_loss(model_b, model_d, layer_names):\n",
    "    cosine_loss = 0.0\n",
    "    for layer_name in layer_names:\n",
    "        param1 = model_b.state_dict()[layer_name]\n",
    "        param2 = model_d.state_dict()[layer_name]\n",
    "        param1.requires_grad = True  # Set requires_grad to True\n",
    "        param2.requires_grad = True  # Set requires_grad to True\n",
    "        weight1 = param1.view(param1.size(0), -1)\n",
    "        weight2 = param2.view(param2.size(0), -1)\n",
    "        cosine_similarity = F.cosine_similarity(weight1, weight2)\n",
    "        cosine_loss += 1 - cosine_similarity\n",
    "        print(f'cosine_loss: {cosine_loss.mean()}')\n",
    "    return cosine_loss\n"
   ]
  },
  {
   "attachments": {},
   "cell_type": "markdown",
   "metadata": {},
   "source": [
    "### Type: 1\n",
    "#### lambda_ortho = 0.01\n",
    "# \n",
    "``` \n",
    "        layer_names = ['feature.2.weight', 'feature.4.weight']\n",
    "        ortho_loss = calculate_cosine_similarity_loss(model_d, model_b, layer_names)\n",
    "        loss = loss_b_update.mean() + loss_d_update.mean() - (lambda_ortho / 2) * ortho_loss\n",
    "``` \n",
    "- Results: 74.87%  "
   ]
  },
  {
   "cell_type": "code",
   "execution_count": null,
   "metadata": {},
   "outputs": [],
   "source": [
    "\n",
    "def calculate_cosine_similarity_loss(model_b, model_d, layer_names):\n",
    "    cosine_loss = 0.0\n",
    "    for name1, param1 in model_b.named_parameters():\n",
    "        if 'weight' in name1 and layer_names[0] in name1:\n",
    "            param2 = model_d.state_dict().get(name1)\n",
    "            if param1 is not None and param2 is not None:\n",
    "                weight1 = param1.view(param1.size(0), -1)\n",
    "                weight2 = param2.view(param2.size(0), -1)\n",
    "                cosine_similarity = F.cosine_similarity(weight1, weight2)\n",
    "                cosine_loss += 1 - cosine_similarity\n",
    "    return cosine_loss"
   ]
  },
  {
   "attachments": {},
   "cell_type": "markdown",
   "metadata": {},
   "source": [
    "#"
   ]
  },
  {
   "attachments": {},
   "cell_type": "markdown",
   "metadata": {},
   "source": [
    "### Type: 2\n",
    "#### lambda_ortho = 0.01\n",
    "# \n",
    "``` \n",
    "        layer_names = [2,4]\n",
    "        ortho_loss = calculate_cosine_similarity_loss(model_d, model_b, layer_names)\n",
    "        loss = loss_b_update.mean() + loss_d_update.mean() - (lambda_ortho / 2) * ortho_loss\n",
    "``` \n",
    "- Results: 72.80%  "
   ]
  },
  {
   "cell_type": "code",
   "execution_count": null,
   "metadata": {},
   "outputs": [],
   "source": [
    "def calculate_cosine_similarity_loss(model_b, model_d, layer_names):\n",
    "    cosine_loss=0.0\n",
    "    for layer in layer_names:\n",
    "        print(layer)\n",
    "        weight1 = list(model_b.parameters())[layer]\n",
    "        weight2 = list(model_d.parameters())[layer]\n",
    "        cosine_similarity = F.cosine_similarity(weight1, weight2)\n",
    "        cosine_loss += cosine_similarity\n",
    "        print(f'cosine_similarity: {cosine_similarity}')\n",
    "    return cosine_loss"
   ]
  },
  {
   "attachments": {},
   "cell_type": "markdown",
   "metadata": {},
   "source": [
    "#"
   ]
  },
  {
   "attachments": {},
   "cell_type": "markdown",
   "metadata": {},
   "source": [
    "### Type: 3\n",
    "#### lambda_ortho = 0.01\n",
    "# \n",
    "``` \n",
    "        layer_names = [2,4]\n",
    "        ortho_loss = calculate_cosine_similarity_loss(model_d, model_b, layer_names)\n",
    "        loss = loss_b_update.mean() + loss_d_update.mean() - (lambda_ortho / 2) * ortho_loss\n",
    "``` \n",
    "- Results: 72.80%  "
   ]
  },
  {
   "cell_type": "code",
   "execution_count": null,
   "metadata": {},
   "outputs": [],
   "source": [
    "def calculate_cosine_similarity_loss(model_b, model_d, layer_names):\n",
    "    p11 = list(model_b.parameters())\n",
    "    print(f'p11: {p11[2]}')\n",
    "    p22 = list(model_d.parameters())\n",
    "    cos_sim = 0.0\n",
    "    for i in layer_names:\n",
    "            p111 = p11[i].view(p11[i].size(0), -1)\n",
    "            p222 = p22[i].view(p22[i].size(0), -1)\n",
    "            sim = F.cosine_similarity(p111, p222)\n",
    "            cos_sim += sim.mean(0)\n",
    "            print(f'cos_sim: {cos_sim}')\n",
    "\n",
    "    return cos_sim"
   ]
  },
  {
   "attachments": {},
   "cell_type": "markdown",
   "metadata": {},
   "source": [
    "#"
   ]
  },
  {
   "attachments": {},
   "cell_type": "markdown",
   "metadata": {},
   "source": [
    "### Type: 4\n",
    "#### lambda_ortho = 0.01\n",
    "# \n",
    "``` \n",
    "        layer_names = ['feature.2.weight', 'feature.4.weight']\n",
    "        ortho_loss = calculate_cosine_similarity_loss(model_d, model_b, layer_names)\n",
    "        loss = loss_b_update.mean() + loss_d_update.mean() - (lambda_ortho / 2) * ortho_loss\n",
    "``` \n",
    "- Results: 77.97%  "
   ]
  },
  {
   "cell_type": "code",
   "execution_count": null,
   "metadata": {},
   "outputs": [],
   "source": [
    "def calculate_cosine_similarity_loss(model_b, model_d, layer_names):\n",
    "    cosine_loss = 0.0\n",
    "    for name1, param1 in model_b.named_parameters():\n",
    "        for layer_name in layer_names:\n",
    "            if layer_name in name1:\n",
    "                name2 = name1.replace(layer_name, layer_name.replace('features', 'classifier'))\n",
    "                param2 = model_d.state_dict()[name2]\n",
    "                if param1 is not None and param2 is not None and 'weight' in name1:\n",
    "                    weight1 = param1.view(param1.size(0), -1)\n",
    "                    weight2 = param2.view(param2.size(0), -1)\n",
    "                    cosine_similarity = F.cosine_similarity(weight1, weight2)\n",
    "                    cosine_loss += 1 - cosine_similarity\n",
    "                    print(f'cosine_loss for {layer_name}: {cosine_loss}')\n",
    "    return cosine_loss"
   ]
  },
  {
   "attachments": {},
   "cell_type": "markdown",
   "metadata": {},
   "source": [
    "#"
   ]
  }
 ],
 "metadata": {
  "kernelspec": {
   "display_name": "Python 3",
   "language": "python",
   "name": "python3"
  },
  "language_info": {
   "codemirror_mode": {
    "name": "ipython",
    "version": 3
   },
   "file_extension": ".py",
   "mimetype": "text/x-python",
   "name": "python",
   "nbconvert_exporter": "python",
   "pygments_lexer": "ipython3",
   "version": "3.10.6"
  },
  "orig_nbformat": 4
 },
 "nbformat": 4,
 "nbformat_minor": 2
}
